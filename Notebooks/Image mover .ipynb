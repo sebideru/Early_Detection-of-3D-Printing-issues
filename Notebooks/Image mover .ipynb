{
 "cells": [
  {
   "cell_type": "markdown",
   "id": "a697124a",
   "metadata": {},
   "source": [
    "### Move or copy images files from folder into another folder"
   ]
  },
  {
   "cell_type": "code",
   "execution_count": 39,
   "id": "858b77fa",
   "metadata": {},
   "outputs": [],
   "source": [
    "import csv\n",
    "import os\n",
    "import shutil\n",
    "\n",
    "source = r'C:\\\\Users\\\\16676\\\\Downloads\\\\early-detection-of-3d-printing-issues\\\\Training_Test_Data\\\\Train_data\\\\Train_has_under_extrusion_1\\\\'\n",
    "destination = 'C:\\\\Users\\\\16676\\\\Downloads\\\\early-detection-of-3d-printing-issues\\\\Training_Test_Data\\\\Test_data\\\\Test_has_under_extrusion_1\\\\'\n",
    "\n",
    "with open(r'C:\\\\Users\\\\16676\\\\Downloads\\\\early-detection-of-3d-printing-issues\\\\Training_Test_Data\\\\Test_has_under_extrusion_1.csv') as csvfile:\n",
    "       reader = csv.DictReader(csvfile)\n",
    "       for column in reader:\n",
    "           if os.path.exists(os.path.join(source, column['ID'])) and os.stat(os.path.join(source, column['ID'])).st_size != 0:\n",
    "#                shutil.copyfile(os.path.join(source, column['ID']), os.path.join(destination, column['ID']))\n",
    "                 shutil.move(os.path.join(source, column['ID']), os.path.join(destination, column['ID']))"
   ]
  }
 ],
 "metadata": {
  "kernelspec": {
   "display_name": "Python 3 (ipykernel)",
   "language": "python",
   "name": "python3"
  },
  "language_info": {
   "codemirror_mode": {
    "name": "ipython",
    "version": 3
   },
   "file_extension": ".py",
   "mimetype": "text/x-python",
   "name": "python",
   "nbconvert_exporter": "python",
   "pygments_lexer": "ipython3",
   "version": "3.9.7"
  }
 },
 "nbformat": 4,
 "nbformat_minor": 5
}
