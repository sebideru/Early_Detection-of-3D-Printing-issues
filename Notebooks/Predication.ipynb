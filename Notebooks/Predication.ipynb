{
 "cells": [
  {
   "cell_type": "markdown",
   "id": "ce354c29",
   "metadata": {},
   "source": [
    "### Loading Library"
   ]
  },
  {
   "cell_type": "code",
   "execution_count": 65,
   "id": "2bf7e68c",
   "metadata": {},
   "outputs": [],
   "source": [
    "import cv2\n",
    "import tensorflow as tf\n",
    "import pathlib\n",
    "from tensorflow.keras.models import load_model\n",
    "import os\n",
    "\n",
    "import numpy as np\n",
    "import pandas as pd\n",
    "from keras.preprocessing.image import ImageDataGenerator\n",
    "from keras.models import load_model"
   ]
  },
  {
   "cell_type": "markdown",
   "id": "10f9ec53",
   "metadata": {},
   "source": [
    "### Load Test Images"
   ]
  },
  {
   "cell_type": "code",
   "execution_count": 67,
   "id": "5ef4ccc6",
   "metadata": {},
   "outputs": [],
   "source": [
    "#load our model \n",
    "model = load_model(os.path.join(r'C:\\\\Users\\\\16676\\\\Downloads\\\\early-detection-of-3d-printing-issues\\\\Models\\\\','hasunderextrusion_or_not_model_12.h5'))\n",
    "test_images_path=(r'C:\\\\Users\\\\16676\\\\Downloads\\\\early-detection-of-3d-printing-issues\\\\Input\\\\Final_test\\\\')\n"
   ]
  },
  {
   "cell_type": "code",
   "execution_count": 68,
   "id": "e21225c1",
   "metadata": {},
   "outputs": [
    {
     "name": "stdout",
     "output_type": "stream",
     "text": [
      "Found 25279 images belonging to 1 classes.\n"
     ]
    }
   ],
   "source": [
    "\n",
    "valid_datagen= ImageDataGenerator(rescale=1./255)\n",
    "test_generator = valid_datagen.flow_from_directory(\n",
    "    directory=test_images_path,\n",
    "    target_size=(256, 256),\n",
    "    color_mode=\"rgb\",\n",
    "    batch_size=1,\n",
    "    class_mode=None,\n",
    "    shuffle=False,\n",
    "    seed=42\n",
    ")\n"
   ]
  },
  {
   "cell_type": "markdown",
   "id": "a48afa59",
   "metadata": {},
   "source": [
    "### Predict Classification of the Images"
   ]
  },
  {
   "cell_type": "code",
   "execution_count": 48,
   "id": "1729aafd",
   "metadata": {},
   "outputs": [
    {
     "name": "stderr",
     "output_type": "stream",
     "text": [
      "C:\\Users\\16676\\AppData\\Local\\Temp/ipykernel_12224/3387772560.py:3: UserWarning: `Model.predict_generator` is deprecated and will be removed in a future version. Please use `Model.predict`, which supports generators.\n",
      "  pred=model.predict_generator(test_generator, steps=len(test_generator), verbose=1)\n"
     ]
    },
    {
     "name": "stdout",
     "output_type": "stream",
     "text": [
      "25279/25279 [==============================] - 1263s 50ms/step\n"
     ]
    }
   ],
   "source": [
    "# Predict from generator (returns probabilities)\n",
    "pred=model.predict_generator(test_generator, steps=len(test_generator), verbose=1)"
   ]
  },
  {
   "cell_type": "code",
   "execution_count": 49,
   "id": "b1baebd9",
   "metadata": {},
   "outputs": [],
   "source": [
    "# Get classes by np.round\n",
    "cl = np.round(pred)\n",
    "# Get filenames (set shuffle=false in generator is important)\n",
    "filenames=test_generator.filenames"
   ]
  },
  {
   "cell_type": "code",
   "execution_count": 50,
   "id": "39d444de",
   "metadata": {},
   "outputs": [],
   "source": [
    "# Data frame\n",
    "results=pd.DataFrame({\"Test_file\":filenames,\"predication\":pred[:,0], \"has_under_extrusion\":cl[:,0].astype(int)})"
   ]
  },
  {
   "cell_type": "code",
   "execution_count": 51,
   "id": "184ce8e2",
   "metadata": {},
   "outputs": [],
   "source": [
    "results['ID']=results['Test_file'].apply(lambda x:str(x).split(\"\\\\\")[1])\n",
    "col_change=results.pop('ID')\n",
    "results.insert(0, 'ID', col_change)"
   ]
  },
  {
   "cell_type": "code",
   "execution_count": 52,
   "id": "f5a8eb08",
   "metadata": {},
   "outputs": [
    {
     "data": {
      "text/html": [
       "<div>\n",
       "<style scoped>\n",
       "    .dataframe tbody tr th:only-of-type {\n",
       "        vertical-align: middle;\n",
       "    }\n",
       "\n",
       "    .dataframe tbody tr th {\n",
       "        vertical-align: top;\n",
       "    }\n",
       "\n",
       "    .dataframe thead th {\n",
       "        text-align: right;\n",
       "    }\n",
       "</style>\n",
       "<table border=\"1\" class=\"dataframe\">\n",
       "  <thead>\n",
       "    <tr style=\"text-align: right;\">\n",
       "      <th></th>\n",
       "      <th>ID</th>\n",
       "      <th>Test_file</th>\n",
       "      <th>predication</th>\n",
       "      <th>has_under_extrusion</th>\n",
       "    </tr>\n",
       "  </thead>\n",
       "  <tbody>\n",
       "    <tr>\n",
       "      <th>0</th>\n",
       "      <td>1672776120.647672.jpg</td>\n",
       "      <td>test_images\\1672776120.647672.jpg</td>\n",
       "      <td>5.769526e-08</td>\n",
       "      <td>0</td>\n",
       "    </tr>\n",
       "    <tr>\n",
       "      <th>1</th>\n",
       "      <td>1672776121.654801.jpg</td>\n",
       "      <td>test_images\\1672776121.654801.jpg</td>\n",
       "      <td>6.079748e-09</td>\n",
       "      <td>0</td>\n",
       "    </tr>\n",
       "  </tbody>\n",
       "</table>\n",
       "</div>"
      ],
      "text/plain": [
       "                      ID                          Test_file   predication  \\\n",
       "0  1672776120.647672.jpg  test_images\\1672776120.647672.jpg  5.769526e-08   \n",
       "1  1672776121.654801.jpg  test_images\\1672776121.654801.jpg  6.079748e-09   \n",
       "\n",
       "   has_under_extrusion  \n",
       "0                    0  \n",
       "1                    0  "
      ]
     },
     "execution_count": 52,
     "metadata": {},
     "output_type": "execute_result"
    }
   ],
   "source": [
    "results.head(2)"
   ]
  },
  {
   "cell_type": "code",
   "execution_count": 53,
   "id": "f764db25",
   "metadata": {},
   "outputs": [
    {
     "data": {
      "text/plain": [
       "25279"
      ]
     },
     "execution_count": 53,
     "metadata": {},
     "output_type": "execute_result"
    }
   ],
   "source": [
    "len(results)"
   ]
  },
  {
   "cell_type": "code",
   "execution_count": 56,
   "id": "9b9df203",
   "metadata": {},
   "outputs": [],
   "source": [
    "df_Sample_Sumbission=pd.read_csv(r'C:\\\\Users\\\\16676\\\\Downloads\\\\early-detection-of-3d-printing-issues\\\\Input\\\\test.csv')"
   ]
  },
  {
   "cell_type": "code",
   "execution_count": 57,
   "id": "1a47c613",
   "metadata": {},
   "outputs": [],
   "source": [
    "df_Sample_Sumbission['ID']=df_Sample_Sumbission['img_path'].apply(lambda x:str(x).split('/')[2])\n",
    "col_change=df_Sample_Sumbission.pop('ID')\n",
    "df_Sample_Sumbission.insert(0, 'ID', col_change)"
   ]
  },
  {
   "cell_type": "code",
   "execution_count": 58,
   "id": "788970dd",
   "metadata": {},
   "outputs": [
    {
     "data": {
      "text/html": [
       "<div>\n",
       "<style scoped>\n",
       "    .dataframe tbody tr th:only-of-type {\n",
       "        vertical-align: middle;\n",
       "    }\n",
       "\n",
       "    .dataframe tbody tr th {\n",
       "        vertical-align: top;\n",
       "    }\n",
       "\n",
       "    .dataframe thead th {\n",
       "        text-align: right;\n",
       "    }\n",
       "</style>\n",
       "<table border=\"1\" class=\"dataframe\">\n",
       "  <thead>\n",
       "    <tr style=\"text-align: right;\">\n",
       "      <th></th>\n",
       "      <th>ID</th>\n",
       "      <th>img_path</th>\n",
       "      <th>printer_id</th>\n",
       "      <th>print_id</th>\n",
       "    </tr>\n",
       "  </thead>\n",
       "  <tbody>\n",
       "    <tr>\n",
       "      <th>0</th>\n",
       "      <td>1678578538.704966.jpg</td>\n",
       "      <td>101/1678578332/1678578538.704966.jpg</td>\n",
       "      <td>101</td>\n",
       "      <td>1678578332</td>\n",
       "    </tr>\n",
       "    <tr>\n",
       "      <th>1</th>\n",
       "      <td>1678578539.108019.jpg</td>\n",
       "      <td>101/1678578332/1678578539.108019.jpg</td>\n",
       "      <td>101</td>\n",
       "      <td>1678578332</td>\n",
       "    </tr>\n",
       "  </tbody>\n",
       "</table>\n",
       "</div>"
      ],
      "text/plain": [
       "                      ID                              img_path  printer_id  \\\n",
       "0  1678578538.704966.jpg  101/1678578332/1678578538.704966.jpg         101   \n",
       "1  1678578539.108019.jpg  101/1678578332/1678578539.108019.jpg         101   \n",
       "\n",
       "     print_id  \n",
       "0  1678578332  \n",
       "1  1678578332  "
      ]
     },
     "execution_count": 58,
     "metadata": {},
     "output_type": "execute_result"
    }
   ],
   "source": [
    "df_Sample_Sumbission.head(2)"
   ]
  },
  {
   "cell_type": "code",
   "execution_count": 59,
   "id": "690cf157",
   "metadata": {},
   "outputs": [
    {
     "data": {
      "text/plain": [
       "25279"
      ]
     },
     "execution_count": 59,
     "metadata": {},
     "output_type": "execute_result"
    }
   ],
   "source": [
    "len(df_Sample_Sumbission)"
   ]
  },
  {
   "cell_type": "code",
   "execution_count": 60,
   "id": "82791c3d",
   "metadata": {},
   "outputs": [],
   "source": [
    "# df_Sample_Sumbission.to_csv('test_real.csv')"
   ]
  },
  {
   "cell_type": "code",
   "execution_count": 61,
   "id": "1cd558b3",
   "metadata": {},
   "outputs": [],
   "source": [
    "#merging the imagies with their extrusion types\n",
    "df_Sample_Sumbission=df_Sample_Sumbission.merge(results ,how='left')"
   ]
  },
  {
   "cell_type": "code",
   "execution_count": 62,
   "id": "215ebf40",
   "metadata": {},
   "outputs": [
    {
     "data": {
      "text/html": [
       "<div>\n",
       "<style scoped>\n",
       "    .dataframe tbody tr th:only-of-type {\n",
       "        vertical-align: middle;\n",
       "    }\n",
       "\n",
       "    .dataframe tbody tr th {\n",
       "        vertical-align: top;\n",
       "    }\n",
       "\n",
       "    .dataframe thead th {\n",
       "        text-align: right;\n",
       "    }\n",
       "</style>\n",
       "<table border=\"1\" class=\"dataframe\">\n",
       "  <thead>\n",
       "    <tr style=\"text-align: right;\">\n",
       "      <th></th>\n",
       "      <th>ID</th>\n",
       "      <th>img_path</th>\n",
       "      <th>printer_id</th>\n",
       "      <th>print_id</th>\n",
       "      <th>Test_file</th>\n",
       "      <th>predication</th>\n",
       "      <th>has_under_extrusion</th>\n",
       "    </tr>\n",
       "  </thead>\n",
       "  <tbody>\n",
       "    <tr>\n",
       "      <th>0</th>\n",
       "      <td>1678578538.704966.jpg</td>\n",
       "      <td>101/1678578332/1678578538.704966.jpg</td>\n",
       "      <td>101</td>\n",
       "      <td>1678578332</td>\n",
       "      <td>test_images\\1678578538.704966.jpg</td>\n",
       "      <td>1.0</td>\n",
       "      <td>1</td>\n",
       "    </tr>\n",
       "    <tr>\n",
       "      <th>1</th>\n",
       "      <td>1678578539.108019.jpg</td>\n",
       "      <td>101/1678578332/1678578539.108019.jpg</td>\n",
       "      <td>101</td>\n",
       "      <td>1678578332</td>\n",
       "      <td>test_images\\1678578539.108019.jpg</td>\n",
       "      <td>1.0</td>\n",
       "      <td>1</td>\n",
       "    </tr>\n",
       "  </tbody>\n",
       "</table>\n",
       "</div>"
      ],
      "text/plain": [
       "                      ID                              img_path  printer_id  \\\n",
       "0  1678578538.704966.jpg  101/1678578332/1678578538.704966.jpg         101   \n",
       "1  1678578539.108019.jpg  101/1678578332/1678578539.108019.jpg         101   \n",
       "\n",
       "     print_id                          Test_file  predication  \\\n",
       "0  1678578332  test_images\\1678578538.704966.jpg          1.0   \n",
       "1  1678578332  test_images\\1678578539.108019.jpg          1.0   \n",
       "\n",
       "   has_under_extrusion  \n",
       "0                    1  \n",
       "1                    1  "
      ]
     },
     "execution_count": 62,
     "metadata": {},
     "output_type": "execute_result"
    }
   ],
   "source": [
    "df_Sample_Sumbission.head(2)"
   ]
  },
  {
   "cell_type": "code",
   "execution_count": 63,
   "id": "c6268111",
   "metadata": {},
   "outputs": [],
   "source": [
    "df_Sample_Sumbission = df_Sample_Sumbission.drop(columns=['ID','printer_id','print_id','Test_file','predication'])\n"
   ]
  },
  {
   "cell_type": "code",
   "execution_count": 64,
   "id": "2fe3d5a1",
   "metadata": {},
   "outputs": [],
   "source": [
    "df_Sample_Sumbission.to_csv(r'C:\\\\Users\\\\16676\\\\Downloads\\\\early-detection-of-3d-printing-issues\\\\Data\\\\sample_submission_v12.csv',index=False)"
   ]
  }
 ],
 "metadata": {
  "kernelspec": {
   "display_name": "Python 3 (ipykernel)",
   "language": "python",
   "name": "python3"
  },
  "language_info": {
   "codemirror_mode": {
    "name": "ipython",
    "version": 3
   },
   "file_extension": ".py",
   "mimetype": "text/x-python",
   "name": "python",
   "nbconvert_exporter": "python",
   "pygments_lexer": "ipython3",
   "version": "3.9.7"
  }
 },
 "nbformat": 4,
 "nbformat_minor": 5
}
